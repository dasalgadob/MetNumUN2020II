{
  "nbformat": 4,
  "nbformat_minor": 0,
  "metadata": {
    "colab": {
      "name": "Quiz 1.ipynb",
      "provenance": []
    },
    "kernelspec": {
      "name": "python3",
      "display_name": "Python 3"
    }
  },
  "cells": [
    {
      "cell_type": "markdown",
      "metadata": {
        "id": "PKSLFJx3gd7Q",
        "colab_type": "text"
      },
      "source": [
        "# Quiz 1 - Numerical Methods - Diego Salgado"
      ]
    },
    {
      "cell_type": "markdown",
      "metadata": {
        "id": "HxDtsPmkgqSY",
        "colab_type": "text"
      },
      "source": [
        "## Bits to represent Integers and Float\n",
        "\n",
        "### Fortan\n",
        "Internal representation can vary from one compiler to another\n",
        "Default 4 bytes(32 bits). Can be changed with compiler options.\n",
        "\n",
        "There is Integer*2(16 bits), Integer*4(32 bits) and Integer*8(64 bits)\n",
        "\n",
        "Real 1 sign bit, 8 bit for exponent and 23 bit fraction.\n",
        "4 byte (32 bit). Can be changed with compiling options.\n",
        "\n",
        "Real*4. Always 4 byte(32 bit).\n",
        "Real*8\n",
        "Real*16 A sign bit. 15 bits for exponent and 112 bit fraction.\n",
        "\n",
        "[Fortran 77 reference](https://www.ibiblio.org/pub/languages/fortran/ch2-3.html#:~:text=FORTRAN%20integer%20types%20are%20signed,INTEGER*2%20%2D%20if%20the%20value)\n",
        "\n",
        "### C++\n",
        "\n",
        "Integer guaranteed to be at least 16 bits. On 32/64 bits systems at least 32 bits.\n",
        "Short: at least 16.\n",
        "long: At least 32\n",
        "long long: at least 64\n",
        "\n",
        "\n",
        "Floating points: 32 bits and 64 bits.\n",
        "\n",
        "[C++ reference](https://en.cppreference.com/w/cpp/language/types)\n",
        "\n",
        "### Python\n",
        "CPython Implementation\n",
        "Use an struct\n",
        "\n",
        "ob_size: Length ob ob_digit and sign of the number.\n",
        "ob_digit: Array to store each digit of the number in different index locations.\n",
        "\n",
        "Python only uses 30 bits of the 32 bits available. So all number are stored using base 2^30. In little-endian order. Least significant bit first.\n",
        "\n",
        "Floats are 64 bits double precision numbers.\n",
        "\n",
        "[Bignum representation in Python](https://levelup.gitconnected.com/how-python-represents-integers-using-bignum-f8f0574d0d6b)\n",
        "\n",
        "[Python float representation](https://www.geeksforgeeks.org/python-float-type-and-its-methods/#:~:text=The%20float%20type%20in%20Python,all%20are%20floating%20point%20numbers.)\n",
        "\n",
        "\n",
        "### R\n",
        "\n",
        "Integers: 32 bits representation\n",
        "\n",
        "Floats(Numeric): Double precision 64 bits.\n",
        "\n",
        "[Integers](https://stackoverflow.com/questions/20419304/the-bits-in-r-to-express-integer#:~:text=R%20use%2032%2Dbit%20integers,%5E31%2D1%3D%202147483647.)\n",
        "\n",
        "\n",
        "### Java\n",
        "Short: 16 bits\n",
        "Integers: 32 bits.\n",
        "Long: 64 bits.\n",
        "Float: 32 bits.\n",
        "Double 64 bits.\n",
        "\n",
        "[Types representation Java](https://cs.fit.edu/~ryan/java/language/java-data.html)\n",
        "\n",
        "### Julia\n",
        "\n",
        "Int8 Int16 Int32 Int64 Int128 Signed and unsigned representations.\n",
        "\n",
        "Float16, Float32, Float64 bits representation.\n",
        "\n",
        "[Julia Docs](https://docs.julialang.org/en/v1/manual/integers-and-floating-point-numbers/)\n",
        "\n",
        "\n",
        "### Excel\n",
        "\n",
        "Integer and Decimals are 64 bits.\n",
        "\n",
        "[Excel types](https://support.microsoft.com/en-us/office/data-types-in-data-models-e2388f62-6122-4e2b-bcad-053e3da9ba90)\n",
        "\n",
        "### \n",
        "\n",
        "\n"
      ]
    },
    {
      "cell_type": "code",
      "metadata": {
        "id": "Qe3Fgfaggl3k",
        "colab_type": "code",
        "colab": {}
      },
      "source": [
        ""
      ],
      "execution_count": null,
      "outputs": []
    }
  ]
}